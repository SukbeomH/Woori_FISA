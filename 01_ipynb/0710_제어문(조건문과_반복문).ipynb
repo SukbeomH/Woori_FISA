{
  "cells": [
    {
      "cell_type": "markdown",
      "metadata": {
        "id": "H9omkUl7Rqph"
      },
      "source": [
        "# 제어문\n",
        "- 대부분의 언어가 유사합니다.\n",
        "- 조건문, 반복문\n",
        "- 위의 2가지로 전체 코드의 실행 흐름을 제어합니다.\n",
        "\n",
        "- 프로그래밍은 저 두개가 전부죠. 저 두개를 어떻게 잘 섞고 어떻게 간략하게 만드느냐가 알고리즘\n",
        "- 연습을 많이 하셔야 합니다. 그냥 볼때랑은 많이 다르더라구요.\n",
        "- 울지 마시구요....\n",
        "\n",
        "\n",
        "# 조건문(분기문)\n",
        "- if문 / match~case문(3.10부터)\n",
        "- 파이썬은 if문을 많이 사용합니다\n",
        "  - 파이썬의 철학\n",
        "```\n",
        "if 명제:\n",
        "[들여쓰기]명령어들\n",
        "```"
      ]
    },
    {
      "cell_type": "code",
      "execution_count": null,
      "metadata": {
        "colab": {
          "base_uri": "https://localhost:8080/"
        },
        "id": "dDtY4efA1j-R",
        "outputId": "ecbc6558-4c5c-432f-ee97-4f5b621488f9"
      },
      "outputs": [
        {
          "name": "stdout",
          "output_type": "stream",
          "text": [
            "The Zen of Python, by Tim Peters\n",
            "\n",
            "Beautiful is better than ugly.\n",
            "Explicit is better than implicit.\n",
            "Simple is better than complex.\n",
            "Complex is better than complicated.\n",
            "Flat is better than nested.\n",
            "Sparse is better than dense.\n",
            "Readability counts.\n",
            "Special cases aren't special enough to break the rules.\n",
            "Although practicality beats purity.\n",
            "Errors should never pass silently.\n",
            "Unless explicitly silenced.\n",
            "In the face of ambiguity, refuse the temptation to guess.\n",
            "There should be one-- and preferably only one --obvious way to do it.\n",
            "Although that way may not be obvious at first unless you're Dutch.\n",
            "Now is better than never.\n",
            "Although never is often better than *right* now.\n",
            "If the implementation is hard to explain, it's a bad idea.\n",
            "If the implementation is easy to explain, it may be a good idea.\n",
            "Namespaces are one honking great idea -- let's do more of those!\n"
          ]
        }
      ],
      "source": [
        "import this"
      ]
    },
    {
      "cell_type": "markdown",
      "metadata": {
        "id": "c1HDN7no16Uj"
      },
      "source": [
        "```\n",
        "파이썬의 철학\n",
        "\n",
        "명확한 코드는 암시적인 코드보다 낫다.\n",
        "단순한 코드가 복잡한 코드보다 낫다.\n",
        "복잡한 코드가 난해한 코드보다 낫다.\n",
        "단조로운 코드가 복잡한 코드보다 낫다.\n",
        "읽기 쉬운 코드는 읽기 어려운 코드보다 낫다.\n",
        "가독성은 중요하다.\n",
        "규칙을 깰 정도로 특별한 경우란 없다.\n",
        "하지만 실용성은 이상을 능가한다.\n",
        "에러를 결코 조용히 넘어가지 않도록 한다.\n",
        "명시적으로 조용히 넘어가라고 하더라도 조용히 넘어가지 않는다.\n",
        "모호한 코드를 대면할 때마다 추측하고 싶은 유혹을 거절하라.\n",
        "문제를 해결할 단 하나의 명확하고 바람직한 방법이 있을 것이다.\n",
        "하지만 처음에 코딩을 할 때는 잘 모를 수 있기에\n",
        "코드의 동작 방법을 정확히 알지 못할 수 있다.\n",
        "아무것도 안 하는 것보다 지금 하는 게 낫다.\n",
        "하지만 아무것도 하지 않는 것이 지금 당장 하는 것보다 나을 수도 있다.\n",
        "설명하기 어려운 구현이라면 좋은 아이디어는 아니다.\n",
        "쉽게 설명할 수 있는 구현이라면 좋은 아이디어일 것이다.\n",
        "네임스페이스는 매우 훌륭한 아이디어이다. 많이 사용하자\n",
        "```\n"
      ]
    },
    {
      "cell_type": "code",
      "execution_count": 6,
      "metadata": {
        "colab": {
          "base_uri": "https://localhost:8080/"
        },
        "id": "jbi_aaE_PVX6",
        "outputId": "c00076b3-2725-41a4-aff7-e276aa1d0afc"
      },
      "outputs": [
        {
          "name": "stdout",
          "output_type": "stream",
          "text": [
            "참\n",
            "실행되는 수준\n"
          ]
        }
      ],
      "source": [
        "if 1: # True\n",
        "    print('참')\n",
        "    print('실행되는 수준')\n"
      ]
    },
    {
      "cell_type": "code",
      "execution_count": 5,
      "metadata": {
        "colab": {
          "base_uri": "https://localhost:8080/"
        },
        "id": "Iktvz4PIg_lV",
        "outputId": "ed632504-c815-4c88-8b3c-60e6cd6456a9"
      },
      "outputs": [
        {
          "data": {
            "text/plain": [
              "False"
            ]
          },
          "execution_count": 5,
          "metadata": {},
          "output_type": "execute_result"
        }
      ],
      "source": [
        "bool(1=='1')"
      ]
    },
    {
      "cell_type": "code",
      "execution_count": null,
      "metadata": {
        "id": "SyJeCZHphLex"
      },
      "outputs": [],
      "source": [
        "if 0: # False\n",
        "    print('참')\n",
        "    print('실행되는 수준')\n"
      ]
    },
    {
      "cell_type": "code",
      "execution_count": 10,
      "metadata": {},
      "outputs": [
        {
          "name": "stdout",
          "output_type": "stream",
          "text": [
            "None (은)는 \n",
            "Truthy value\n",
            "입니다.\n"
          ]
        }
      ],
      "source": [
        "answer = input('입력하세요: ')\n",
        "\n",
        "print(answer, '(은)는 ')\n",
        "\n",
        "if answer:\n",
        "    print('Truthy value')\n",
        "else:\n",
        "    print('Falsy value')\n",
        "    \n",
        "print('입니다.')\n",
        "\n",
        "# 실제로는 입력값이 str 타입이므로, 빈 문자열이 아니면 True로 판단한다."
      ]
    },
    {
      "cell_type": "markdown",
      "metadata": {
        "id": "mnBMilKpCYuo"
      },
      "source": [
        "#### 1. 아래 출력결과를 예상해보시고 실제로 출력해보세요. 주석으로 왜 이런 결과가 나오는지도 설명을 달아주세요.\n",
        "\n",
        "```\n",
        "if True :\n",
        "    print (\"1\")\n",
        "    print (\"2\")\n",
        "else :\n",
        "    print(\"3\")\n",
        "print(\"4\")\n",
        "```"
      ]
    },
    {
      "cell_type": "code",
      "execution_count": 11,
      "metadata": {
        "colab": {
          "base_uri": "https://localhost:8080/"
        },
        "id": "Yq_rWiz2ha18",
        "outputId": "5e9f7cf5-88b3-41be-b899-fe549e0e2388"
      },
      "outputs": [
        {
          "name": "stdout",
          "output_type": "stream",
          "text": [
            "1\n",
            "2\n",
            "4\n"
          ]
        }
      ],
      "source": [
        "if True :\n",
        "    print (\"1\")\n",
        "    print (\"2\")\n",
        "else :\n",
        "    print(\"3\")\n",
        "print(\"4\")\n",
        "\n",
        "# 참이므로 1, 2가 출력되고, 3은 출력되지 않는다.\n",
        "# 4는 if문과 상관없이 출력된다."
      ]
    },
    {
      "cell_type": "markdown",
      "metadata": {
        "id": "d5xBkkonTIwJ"
      },
      "source": [
        "## Readability counts.\n",
        "- 들여쓰기 얘기를 잠깐 할게요\n",
        "- 파이썬 자체가 귀도 반 로섬 아저씨가 싫은 코드들의 단점을 빼고 만든거라서 가독성을 굉장히 중시합니다.\n",
        "- 그래서 들여쓰기를 일부러 강제하고 있습니다."
      ]
    },
    {
      "cell_type": "code",
      "execution_count": 13,
      "metadata": {
        "id": "vWznEwtVSZM5"
      },
      "outputs": [
        {
          "ename": "IndentationError",
          "evalue": "expected an indented block after 'if' statement on line 1 (1511913119.py, line 2)",
          "output_type": "error",
          "traceback": [
            "\u001b[1;36m  Cell \u001b[1;32mIn[13], line 2\u001b[1;36m\u001b[0m\n\u001b[1;33m    print(\"err\")\u001b[0m\n\u001b[1;37m    ^\u001b[0m\n\u001b[1;31mIndentationError\u001b[0m\u001b[1;31m:\u001b[0m expected an indented block after 'if' statement on line 1\n"
          ]
        }
      ],
      "source": [
        "if True:\n",
        "print(\"err\")"
      ]
    },
    {
      "cell_type": "code",
      "execution_count": 14,
      "metadata": {
        "id": "9qon4Gtxh6wO"
      },
      "outputs": [
        {
          "ename": "IndentationError",
          "evalue": "expected an indented block after 'if' statement on line 1 (147530570.py, line 2)",
          "output_type": "error",
          "traceback": [
            "\u001b[1;36m  Cell \u001b[1;32mIn[14], line 2\u001b[1;36m\u001b[0m\n\u001b[1;33m    else:\u001b[0m\n\u001b[1;37m    ^\u001b[0m\n\u001b[1;31mIndentationError\u001b[0m\u001b[1;31m:\u001b[0m expected an indented block after 'if' statement on line 1\n"
          ]
        }
      ],
      "source": [
        "if True:\n",
        "else:\n",
        "    print(\"why\")"
      ]
    },
    {
      "cell_type": "code",
      "execution_count": null,
      "metadata": {},
      "outputs": [],
      "source": [
        "if True:\n",
        "  pass\n",
        "else:\n",
        "    print(\"why\")"
      ]
    },
    {
      "cell_type": "code",
      "execution_count": 17,
      "metadata": {
        "id": "tfGVeG91TcvT"
      },
      "outputs": [
        {
          "name": "stdout",
          "output_type": "stream",
          "text": [
            "참\n"
          ]
        }
      ],
      "source": [
        "arr = [1,2,3,4,5]\n",
        "\n",
        "# 1이라는 값이 있으면 참, 없으면 거짓을 출력하도록\n",
        "\n",
        "if 1 in arr:\n",
        "    print('참')\n",
        "else:\n",
        "    print('거짓')"
      ]
    },
    {
      "cell_type": "markdown",
      "metadata": {
        "id": "Q04sM8FVYrXD"
      },
      "source": [
        "파이썬은 블록 단위를 표현할 때 들여쓰기로 표현을 합니다.\n",
        "- 들여쓰기를 할 때는 탭과 공백을 구분하기 때문에 반드시 탭 or 공백 하나만 선택해서 같은 크기만큼 들여쓰기 해야 합니다.\n"
      ]
    },
    {
      "cell_type": "markdown",
      "metadata": {
        "id": "a_rgOMr1aRKV"
      },
      "source": [
        "실습. 어깨를 돌리셨습니까 라고 질문을 받고 Y를 입력받으면 '좋군요' 이외 나머지 경우는 전부 '그렇군요' 를 출력해주세요\n",
        "\n"
      ]
    },
    {
      "cell_type": "code",
      "execution_count": 18,
      "metadata": {
        "id": "eE9BwYa9dYVp"
      },
      "outputs": [
        {
          "name": "stdout",
          "output_type": "stream",
          "text": [
            "그렇군요\n"
          ]
        }
      ],
      "source": [
        "answer = input('어깨를 돌리셨습니까?')\n",
        "\n",
        "if answer == 'Y':\n",
        "    print('좋군요')\n",
        "else:\n",
        "    print('그렇군요')"
      ]
    },
    {
      "cell_type": "markdown",
      "metadata": {
        "id": "2AOHy-VI1t1u"
      },
      "source": [
        "```\n",
        "match 변수 or 값:\n",
        "    case 값:\n",
        "       실행문\n",
        "```\n",
        "- ' _ ' (언더바)는 와일드카드라고 부르고 앞에 조건들을 제외한 모든 것을 포함한다.\n",
        "- ' | ' (OR)은 또는을 의미. 둘 중에 하나라도 만족하면 참이다.\n",
        "- ' * ' (별)은 앞에 값을 제외하고 나머지 요소들을 모두 저장하는 변수 앞에 붙인다."
      ]
    },
    {
      "cell_type": "code",
      "execution_count": null,
      "metadata": {
        "colab": {
          "base_uri": "https://localhost:8080/"
        },
        "id": "Y1DJXBRkU6v2",
        "outputId": "1b66b896-92d0-44c1-84dd-e3dfe6600091"
      },
      "outputs": [
        {
          "name": "stdout",
          "output_type": "stream",
          "text": [
            "['python']\n"
          ]
        }
      ],
      "source": [
        "# 시퀀스, OR, *\n",
        "examples = [\n",
        "    ['python'],\n",
        "    ['1'],\n",
        "    ['아침', '점심', '저녁'],\n",
        "    ['score', 100, 22, 90]\n",
        "]\n",
        "\n",
        "x = ['python']\n",
        "# for x in examples:\n",
        "match x:\n",
        "    case ['python']:\n",
        "        print(x)\n",
        "        # break\n",
        "    case ['아침', '점심']:\n",
        "        print(x)\n",
        "            # break\n",
        "    case ['1'] | ['2']:\n",
        "        print(x)\n",
        "            # break\n",
        "    case ['score', *z]:\n",
        "        print(z)\n",
        "    # case _:\n",
        "    #     print('나머지 모든 경우')"
      ]
    },
    {
      "cell_type": "code",
      "execution_count": 20,
      "metadata": {
        "id": "CuNh4cvJVDos"
      },
      "outputs": [
        {
          "name": "stdout",
          "output_type": "stream",
          "text": [
            "아무거나 먹죠?\n"
          ]
        }
      ],
      "source": [
        "lunch = input('점심메뉴: ')\n",
        "\n",
        "match lunch:\n",
        "    case '피자' | '햄버거' | '치킨' | '김밥':\n",
        "        print(lunch + '을(를) 먹자!')\n",
        "    case _:\n",
        "        print('아무거나 먹죠?')"
      ]
    },
    {
      "cell_type": "code",
      "execution_count": 22,
      "metadata": {
        "id": "a4pBAFmIVmFT"
      },
      "outputs": [
        {
          "name": "stdout",
          "output_type": "stream",
          "text": [
            "아무거나 먹죠?\n"
          ]
        }
      ],
      "source": [
        "lunch = input('점심메뉴: ')\n",
        "\n",
        "if lunch in '피자햄버거치킨김밥':\n",
        "    print(lunch + '을(를) 먹자!')\n",
        "else:\n",
        "    print('다른거 먹죠?')"
      ]
    },
    {
      "cell_type": "code",
      "execution_count": 26,
      "metadata": {
        "id": "TX5IzusJVnRc"
      },
      "outputs": [
        {
          "name": "stdout",
          "output_type": "stream",
          "text": [
            "피자을(를) 먹자!\n"
          ]
        }
      ],
      "source": [
        "lunch = input('점심메뉴: ')\n",
        "\n",
        "match lunch:\n",
        "    case lunch if lunch in '피자햄버거치킨김밥':\n",
        "        print(lunch + '을(를) 먹자!')\n",
        "    case _:\n",
        "        print('다른거 먹죠?')"
      ]
    },
    {
      "cell_type": "code",
      "execution_count": 28,
      "metadata": {},
      "outputs": [
        {
          "name": "stdout",
          "output_type": "stream",
          "text": [
            "피자를 먹자!!\n"
          ]
        }
      ],
      "source": [
        "answer = input('점심메뉴 : ')\n",
        "print(f'{answer}를 먹자!!' if answer in ['피자', '햄버거', '치킨'] else '랜덤으로 뽑자')"
      ]
    },
    {
      "cell_type": "code",
      "execution_count": 30,
      "metadata": {},
      "outputs": [
        {
          "name": "stdout",
          "output_type": "stream",
          "text": [
            "피자를 먹자!!\n"
          ]
        }
      ],
      "source": [
        "answer = input('점심메뉴 : ')\n",
        "print(f'{answer}를 먹자!!') if answer in ['피자', '햄버거', '치킨'] else print('랜덤으로 뽑자')"
      ]
    },
    {
      "cell_type": "markdown",
      "metadata": {
        "id": "S-is9tyTlzgY"
      },
      "source": [
        "- if 블록이랑 else 블록 두개만 있을 때는 한곳으로 반드시 분기가 되어야 합니다.\n",
        "- True이거나 True가 아닌 모든 값 둘중에 하나 여야 하는거죠.\n",
        "\n",
        "- 만약 그렇지 않다?\n",
        "    - 참이면서 거짓인 명제가 있다 라는 말인데요. 이건 불가능하죠.\n",
        "    - 두 블록이 실행이 안 되는 경우 - 참도 거짓도 아닌 경우 이런 경우도 있을 수 없습니다.\n",
        "\n",
        "- 2가지 조건만 존재할 수는 없잖아요.\n",
        "\n",
        "- 세상에 새로운 생각은 없다.... and or not 으로 계속 뻗어나가는 생각의 줄기가 프로그래밍 분기문의 기본 원리가 되었다.\n",
        "\n",
        "# 다중조건문\n",
        "\n",
        "```\n",
        "if 조건1:\n",
        "    조건1이 참일 때 실행문\n",
        "elif 조건2:\n",
        "    조건2가 참일 때 실행문\n",
        "elif 조건3:\n",
        "    조건3가 참일 때 실행문\n",
        "elif 조건4:\n",
        "    조건4가 참일 때 실행문\n",
        "else:\n",
        "    조건1도 2도 아닌 모든 상황에 실행문\n",
        "```"
      ]
    },
    {
      "cell_type": "markdown",
      "metadata": {
        "id": "_Dm8d0StlzgY"
      },
      "source": [
        "조건문\n",
        "- 무조건 if 조건: 으로 시작...\n",
        "- 나머지는 거들 뿐....\n",
        "- 2개 이상의 조건을 제시하려면 if와 else 사이에 elif를 얼마든지 첨가 가능합니다\n"
      ]
    },
    {
      "cell_type": "markdown",
      "metadata": {
        "id": "y1A_YKm7lzgY"
      },
      "source": [
        "- 조금더 섬세하게 소문자/대문자 모두 쓸 수 있게"
      ]
    },
    {
      "cell_type": "code",
      "execution_count": null,
      "metadata": {
        "id": "7VmAIXkOlzgZ"
      },
      "outputs": [],
      "source": [
        "answer = input('어깨를 돌리셨습니까?')\n",
        "\n",
        "if answer.upper == 'Y':\n",
        "    print('좋군요')\n",
        "else:\n",
        "    print('그렇군요')"
      ]
    },
    {
      "cell_type": "code",
      "execution_count": 33,
      "metadata": {
        "id": "lhvCx6AwlzgZ"
      },
      "outputs": [
        {
          "name": "stdout",
          "output_type": "stream",
          "text": [
            "그렇군요\n"
          ]
        }
      ],
      "source": [
        "answer = input('어깨를 돌리셨습니까?')\n",
        "\n",
        "if answer == 'Y':\n",
        "    print('좋군요')\n",
        "elif answer == 'y':\n",
        "    print('좋군요')\n",
        "else:\n",
        "    print('그렇군요')"
      ]
    },
    {
      "cell_type": "markdown",
      "metadata": {
        "id": "-39vqHJClzgZ"
      },
      "source": [
        "### 이 경우는 다중 조건이 아닙니다"
      ]
    },
    {
      "cell_type": "code",
      "execution_count": null,
      "metadata": {
        "id": "56PqkcCHlzgZ"
      },
      "outputs": [],
      "source": []
    },
    {
      "cell_type": "code",
      "execution_count": null,
      "metadata": {
        "id": "EsC6eBeSlzgZ"
      },
      "outputs": [],
      "source": []
    },
    {
      "cell_type": "code",
      "execution_count": null,
      "metadata": {
        "id": "TzdKtgAulzgZ"
      },
      "outputs": [],
      "source": []
    },
    {
      "cell_type": "code",
      "execution_count": null,
      "metadata": {
        "id": "Nmwyxk3KoBVB"
      },
      "outputs": [],
      "source": []
    },
    {
      "cell_type": "code",
      "execution_count": null,
      "metadata": {
        "id": "MS7gZb7woEFa"
      },
      "outputs": [],
      "source": []
    },
    {
      "cell_type": "code",
      "execution_count": null,
      "metadata": {
        "id": "6dzhDIPflzgZ"
      },
      "outputs": [],
      "source": []
    },
    {
      "cell_type": "markdown",
      "metadata": {
        "id": "lCf7US6ZlzgZ"
      },
      "source": [
        "# 실습. 주사위 게임입니다\n",
        "```\n",
        "### 문자열이 '숫자'로만 이루어져있는지 확인\n",
        "#  1) str.isdigit(\"판단하고자 하는 문자열\")\n",
        "#  2) \"판단하고자 하는 문자열\".isdigit()\n",
        "\n",
        "a = '1234' # 타입이 str이지만 온전히 숫자만 가지고 있다면 True를 반환\n",
        "b = '1/2'\n",
        "c = '가나다'\n",
        "d = '가나다123'\n",
        "e = '3²'\n",
        "f = '-1'\n",
        "g = '½'\n",
        "\n",
        "print('isdigit()') # 문자열의 모든 문자가 숫자(0-9)이면 True를 출력\n",
        "print(a.isdigit()) # True\n",
        "print(b.isdigit()) # False\n",
        "print(c.isdigit()) # False\n",
        "print(d.isdigit()) # False\n",
        "print(e.isdigit()) # True\n",
        "print(f.isdigit()) # False '-1' 은 '-'가 음수이기 때문에\n",
        "print(g.isdigit()) # False\n",
        "\n",
        "print('isdecimal() - 특수문자는 숫자로 취급하지 않음')\n",
        "print(a.isdecimal()) # True\n",
        "print(b.isdecimal()) # False\n",
        "print(c.isdecimal()) # False\n",
        "print(d.isdecimal()) # False\n",
        "print(e.isdecimal()) # False\n",
        "print(f.isdecimal()) # False\n",
        "print(g.isdecimal()) # False\n",
        "\n",
        "print('isnumeric() -  문자열의 모든 문자가 숫자(분수, 아래 첨자, 위 첨자 등의 다른 숫자도 포함)')\n",
        "print(a.isnumeric()) # True\n",
        "print(b.isnumeric()) # False\n",
        "print(c.isnumeric()) # False\n",
        "print(d.isnumeric()) # False\n",
        "print(e.isnumeric()) # True\n",
        "print(f.isnumeric()) # False\n",
        "print(g.isnumeric()) # True\n",
        "\n",
        "print('isalpha() - 알파벳으로만 이루어진 문자열 판별')\n",
        "print(a.isalpha()) # False\n",
        "print(b.isalpha()) # False\n",
        "print(c.isalpha()) # True\n",
        "print(d.isalpha()) # False\n",
        "print(e.isalpha()) # False\n",
        "print(f.isalpha()) # False\n",
        "print(g.isalpha()) # False\n",
        "```\n",
        "\n",
        "- 위 메서드의 특징을 사용하여 두 사람이 1~6까지의 숫자가 있는 주사위를 던져 높은 숫자가 나오면 이기는 게임을 작성해봅니다.\n",
        "- 주사위 숫자는 input으로 받은 값을 a, b라는 변수에 넣어서 비교할게요.\n",
        "- 실행결과는 3가지 : a가 이긴다, a가 진다, a가 비긴다"
      ]
    },
    {
      "cell_type": "code",
      "execution_count": 38,
      "metadata": {
        "id": "68UxUETMlzgZ"
      },
      "outputs": [
        {
          "name": "stdout",
          "output_type": "stream",
          "text": [
            "a의 주사위 숫자를 넣어주세요\n"
          ]
        }
      ],
      "source": [
        "roll_a = input('a의 주사위 값을 작성하세요: ')\n",
        "roll_b = input('b의 주사위 값을 작성하세요: ')\n",
        "\n",
        "if not(roll_a.isdecimal()):\n",
        "    print('a의 주사위 숫자를 넣어주세요')    \n",
        "elif int(roll_a) < 0 or int(roll_a) > 6:\n",
        "    print('a의 주사위 숫자는 1 ~ 6 사이 입니다')\n",
        "elif not(roll_b.isdecimal()):\n",
        "    print('b의 주사위 숫자를 넣어주세요')    \n",
        "elif int(roll_b) < 0 or int(roll_b) > 6:\n",
        "    print('b의 주사위 숫자는 1 ~ 6 사이 입니다')\n",
        "else:\n",
        "    if int(roll_a) > int(roll_b):\n",
        "        print('a가 이겼습니다')\n",
        "    elif int(roll_a) < int(roll_b):\n",
        "        print('a가 졌습니다')\n",
        "    else:\n",
        "        print('a가 비겼습니다')\n",
        "        "
      ]
    },
    {
      "cell_type": "code",
      "execution_count": 58,
      "metadata": {
        "id": "XK0iznAsrd9L"
      },
      "outputs": [
        {
          "name": "stdout",
          "output_type": "stream",
          "text": [
            "b의 주사위 숫자를 넣어주세요\n"
          ]
        }
      ],
      "source": [
        "roll_a = input('a의 주사위 값을 작성하세요: ')\n",
        "\n",
        "if not(roll_a.isdecimal()):\n",
        "    print('a의 주사위 숫자를 넣어주세요')\n",
        "elif int(roll_a) < 0 or int(roll_a) > 6:\n",
        "    print('a의 주사위 숫자는 1 ~ 6 사이 입니다')\n",
        "else:\n",
        "    roll_b = input('b의 주사위 값을 작성하세요: ')\n",
        "\n",
        "    if not(roll_b.isdecimal()):\n",
        "        print('b의 주사위 숫자를 넣어주세요')\n",
        "    elif int(roll_b) < 0 or int(roll_b) > 6:\n",
        "        print('b의 주사위 숫자는 1 ~ 6 사이 입니다')\n",
        "    else:\n",
        "        if roll_a > roll_b:\n",
        "            print('a가 이겼습니다')\n",
        "        elif roll_a < roll_b:\n",
        "            print('a가 졌습니다')\n",
        "        else:\n",
        "            print('a가 비겼습니다')\n"
      ]
    },
    {
      "cell_type": "markdown",
      "metadata": {
        "id": "D_NW72C9lzgZ"
      },
      "source": [
        "arr = [1, 2, 3]\n",
        "#### 지금은 arr의 우리가 뚜껑을 열어봤지만 실제로는 다 DB에서 가져온 자료 혹은 사용자로부터 입력받은 자료이고 속에 뭐가 들어있는지 모른다 라는 설정입니다.\n",
        "\n",
        "- arr 안에 1, 2, 3 중 어느 정수가 들어있으면'참', 그렇지 않으면 '거짓' 을 출력하는 조건문을 만들어보겠습니다."
      ]
    },
    {
      "cell_type": "code",
      "execution_count": 101,
      "metadata": {
        "id": "73YBG5o7lzgZ"
      },
      "outputs": [
        {
          "name": "stdout",
          "output_type": "stream",
          "text": [
            "참\n"
          ]
        }
      ],
      "source": [
        "arr = [1,2,3]\n",
        "\n",
        "print('참') if (1 | 2 | 3) in arr else print('거짓')\n",
        "\n",
        "# 제대로 작동하지 않는다\n",
        "# | 연산자는 단순한 OR와 다르다"
      ]
    },
    {
      "cell_type": "code",
      "execution_count": 95,
      "metadata": {
        "id": "QN4gc5z4lzgZ"
      },
      "outputs": [
        {
          "name": "stdout",
          "output_type": "stream",
          "text": [
            "참\n"
          ]
        }
      ],
      "source": [
        "arr =[3]\n",
        "\n",
        "if 1 in arr or 2 in arr or 3 in arr:\n",
        "    print('참')\n",
        "else:\n",
        "    print('거짓')"
      ]
    },
    {
      "cell_type": "markdown",
      "metadata": {},
      "source": [
        "## 파이썬에서의 비트연산은 권장되지 않는다"
      ]
    },
    {
      "cell_type": "code",
      "execution_count": 102,
      "metadata": {},
      "outputs": [
        {
          "data": {
            "text/plain": [
              "1"
            ]
          },
          "execution_count": 102,
          "metadata": {},
          "output_type": "execute_result"
        }
      ],
      "source": [
        "1 or 2 or 3"
      ]
    },
    {
      "cell_type": "code",
      "execution_count": 103,
      "metadata": {},
      "outputs": [
        {
          "data": {
            "text/plain": [
              "3"
            ]
          },
          "execution_count": 103,
          "metadata": {},
          "output_type": "execute_result"
        }
      ],
      "source": [
        "1 | 2 | 3"
      ]
    },
    {
      "cell_type": "markdown",
      "metadata": {
        "id": "O9tEWkrLd8RM"
      },
      "source": [
        "- if 블록이랑 else 블록 두개만 있을 때는 한곳으로 반드시 분기가 되어야 합니다.\n",
        "- True이거나 True가 아닌 모든 값 둘중에 하나여야 합니다.\n",
        "\n",
        "- 만약 그렇지 않다?\n",
        "    - 참이면서 거짓인 명제가 있다 라는 말인데요. 이건 불가능하죠.\n",
        "    - 두 블록이 실행이 안 되는 경우 - 참도 거짓도 아닌 경우 이런 경우도 있을 수 없습니다.\n",
        "\n",
        "- 2가지 조건만 존재할 수는 없잖아요.\n",
        "\n",
        "- 세상에 새로운 생각은 없다.... and or not 으로 계속 뻗어나가는 생각의 줄기가 프로그래밍 분기문의 기본 원리가 되었다.\n"
      ]
    },
    {
      "cell_type": "markdown",
      "metadata": {
        "id": "pt0YekWngi9L"
      },
      "source": [
        "# 논리연산자\n",
        "- not, and, or 순으로 우선 판단\n",
        "- 단락평가를 한다\n",
        "- 단락평가란? short-circuit evalution\n",
        "- 첫번째 값으로 결과가 확인하면 두번째 값은 평가하지 않는 방법\n",
        "- 참고:\n",
        "    - ~ & | : 비트연산자 - 비트 단위로 논리 연산 (not, and, or 과 다른 방식으로 작동)\n",
        "\n",
        "    - 비트 연산자는 비트(bit) 단위로 논리 연산을 할 때 사용하는 연산자입니다.\n",
        "\n",
        "    - 또한, 비트 단위로 전체 비트를 왼쪽이나 오른쪽으로 이동시킬 때도 사용합니다.\n",
        "```\n",
        "&\t대응되는 비트가 모두 1이면 1을 반환함. (비트 AND 연산)\n",
        "|\t대응되는 비트 중에서 하나라도 1이면 1을 반환함. (비트 OR 연산)\n",
        "^\t대응되는 비트가 서로 다르면 1을 반환함. (비트 XOR 연산)\n",
        "~\t비트를 1이면 0으로, 0이면 1로 반전시킴. (비트 NOT 연산)\n",
        "```\n",
        "\n",
        "연산자 우선순위\n",
        "- https://dojang.io/mod/page/view.php?id=2461"
      ]
    },
    {
      "cell_type": "markdown",
      "metadata": {
        "id": "k8gb5fo_UAI2"
      },
      "source": [
        "# 조건문"
      ]
    },
    {
      "cell_type": "markdown",
      "metadata": {
        "id": "LCUF9uzLTmbQ"
      },
      "source": [
        "- 조건문의 여러가지 종류를 확인했습니다.\n",
        "```\n",
        "if (명제) :\n",
        "    실행문\n",
        "```\n",
        "만 있으면 무조건 돌아갑니다.\n",
        "\n",
        "- 참, 거짓을 판별하기 위해서 명제자리에는 참, 거짓이 아닌 값들도 넣을 수 있다.\n",
        "- 0이랑 빈 객체(빈문자열이나 빈 리스트, ...) 을 제외한 나머지는 모두 참이 되는 겁니다.\n",
        "- 대부분의 명령어들은 명제 자리에 들어가면 명제로 사용될 수 있습니다.\n"
      ]
    },
    {
      "cell_type": "markdown",
      "metadata": {
        "id": "11kqEzdMV1fT"
      },
      "source": [
        "논리연산, 다중조건문을 활용하면 웬만한 조건은 판별할 수 있지만.\n",
        "..\n",
        "\n",
        "우리가 만들어야 하는 분기는 그것보다 훨씬 복잡한 경우들이 많습니다.\n",
        "\n",
        "\n",
        "if 안에 if를 넣어서 해결하는 방법으로 '중첩조건문'이라고 부릅니다.\n",
        "\n",
        "```\n",
        "if 명제1:\n",
        "    # 명제 1이 참인 경우 해야 할 일\n",
        "    if 명제2\n",
        "         # 명제 1이 참인데 명제2도 참일 때 해야 할 일\n",
        "    else:\n",
        "        # 명제1은 참이지만 명제2는 거짓일 때 해야 할 일\n",
        "\n",
        "else:\n",
        "\n",
        "```"
      ]
    },
    {
      "cell_type": "markdown",
      "metadata": {
        "id": "USNPfri2emmH"
      },
      "source": [
        "# 실습\n",
        "user_id = abcd\n",
        "user_pw = 1234\n",
        "인 경우에\n",
        "\n",
        "id와 pw를 입력받아서\n",
        "둘다 일치하면 '로그인 되셨습니다'\n",
        "일치하지 않으면 '로그인을 다시 시도하세요.\"\n",
        "\n",
        "를 출력하는 조건문을 하나 만들어볼게요"
      ]
    },
    {
      "cell_type": "code",
      "execution_count": null,
      "metadata": {
        "id": "LQnNEawMtUTD"
      },
      "outputs": [],
      "source": [
        "data = {'user_id': '1234', 'user_pw':'1234'}\n",
        "\n",
        "input_id = input('아이디: ')\n",
        "input_pw = input('비밀번호: ')\n",
        "\n",
        "if data['user_id'] == input_id and data['user_pw'] == input_pw:\n",
        "  print('로그인 되셨습니다')\n",
        "else:\n",
        "  print('로그인을 다시 시도하세요')"
      ]
    },
    {
      "cell_type": "markdown",
      "metadata": {
        "id": "2vowfVzM-Dty"
      },
      "source": [
        "### 1. id가 맞는지 확인하고, '비밀번호 입력하세요'를 그 다음에 출력하에 비밀전화를 확인받는 조건문.\n"
      ]
    },
    {
      "cell_type": "code",
      "execution_count": 106,
      "metadata": {
        "id": "I3KCQzFB-fHD"
      },
      "outputs": [
        {
          "name": "stdout",
          "output_type": "stream",
          "text": [
            "로그인 성공\n"
          ]
        }
      ],
      "source": [
        "data = {'user_id': '1234', 'user_pw':'1234'}\n",
        "\n",
        "input_id = input('아이디: ')\n",
        "\n",
        "if data['user_id'] != input_id:\n",
        "    print('아이디 오류')\n",
        "else:\n",
        "    input_pw = input('비밀번호: ')\n",
        "    \n",
        "    if data['user_pw'] != input_pw:\n",
        "        print('비밀번호 오류')\n",
        "    else:\n",
        "        print('로그인 성공')"
      ]
    },
    {
      "cell_type": "markdown",
      "metadata": {},
      "source": [
        "### 2. id, 비밀번호 다 입력받고, 둘중에 뭐가 틀렸는지 알려주는 조건문.\n"
      ]
    },
    {
      "cell_type": "code",
      "execution_count": null,
      "metadata": {
        "id": "wjOEwL4FQw58"
      },
      "outputs": [],
      "source": [
        "data = {'user_id': '1234', 'user_pw':'1234'}\n",
        "\n",
        "input_id = input('아이디: ')\n",
        "input_pw = input('비밀번호: ')\n",
        "\n",
        "if data['user_id'] != input_id:\n",
        "    print('아이디 오류')\n",
        "else:\n",
        "    if data['user_pw'] != input_pw:\n",
        "        print('비밀번호 오류')\n",
        "    else:\n",
        "        print('로그인 성공')"
      ]
    },
    {
      "cell_type": "markdown",
      "metadata": {},
      "source": [
        "### 3. id, 비밀번호 모두 맞으면 '로그인 되셨습니다', 둘중에 뭐라도 틀리면 '로그인 불가' (무엇이 틀렸는지는 알려주지 않음)"
      ]
    },
    {
      "cell_type": "code",
      "execution_count": null,
      "metadata": {
        "id": "1yVtzFgQ9q8D"
      },
      "outputs": [],
      "source": [
        "data = {'user_id': '1234', 'user_pw':'1234'}\n",
        "\n",
        "input_id = input('아이디: ')\n",
        "input_pw = input('비밀번호: ')\n",
        "\n",
        "if data['user_id'] != input_id:\n",
        "    print('로그인 오류')\n",
        "else:\n",
        "    if data['user_pw'] != input_pw:\n",
        "        print('로그인 오류')\n",
        "    else:\n",
        "        print('로그인 성공')"
      ]
    },
    {
      "cell_type": "markdown",
      "metadata": {
        "id": "UQKBNXcft24-"
      },
      "source": [
        "# 반복문\n",
        "\n",
        "- 반복을 하는 거죠\n",
        "- 파이썬에서는 반복을 위한 2가지 형태의 방법이 있습니다\n",
        "    - while\n",
        "    - for\n",
        "\n",
        "## while\n",
        "\n",
        "    - 기본형태가 if와 유사합니다.\n",
        "    - if가 명제를 한번만 검사하고 분기를 한다면\n",
        "    - while은 명제를 여러번 검사 (틀릴 때 까지)\n",
        "    - 그래서 while을 반복문이라고 부릅니다.\n",
        "\n",
        "```\n",
        "while 명제:\n",
        "    while 블록\n",
        "```"
      ]
    },
    {
      "cell_type": "code",
      "execution_count": null,
      "metadata": {
        "id": "ZgqhCBqfuWLT"
      },
      "outputs": [],
      "source": [
        "# while True:\n",
        "#     print('😃😃✔😃😃✔😃😃✔😃😃✔😃😃')"
      ]
    },
    {
      "cell_type": "code",
      "execution_count": 2,
      "metadata": {
        "id": "jAohBWJ-wFDS"
      },
      "outputs": [
        {
          "name": "stdout",
          "output_type": "stream",
          "text": [
            "😃😃✔😃😃✔😃😃✔😃😃✔😃😃\n",
            "😃😃✔😃😃✔😃😃✔😃😃✔😃😃\n",
            "😃😃✔😃😃✔😃😃✔😃😃✔😃😃\n",
            "😃😃✔😃😃✔😃😃✔😃😃✔😃😃\n",
            "😃😃✔😃😃✔😃😃✔😃😃✔😃😃\n",
            "😃😃✔😃😃✔😃😃✔😃😃✔😃😃\n",
            "😃😃✔😃😃✔😃😃✔😃😃✔😃😃\n",
            "😃😃✔😃😃✔😃😃✔😃😃✔😃😃\n",
            "😃😃✔😃😃✔😃😃✔😃😃✔😃😃\n",
            "😃😃✔😃😃✔😃😃✔😃😃✔😃😃\n"
          ]
        }
      ],
      "source": [
        "is_loop = True\n",
        "count = 0\n",
        "\n",
        "while is_loop:\n",
        "    print('😃😃✔😃😃✔😃😃✔😃😃✔😃😃')\n",
        "    count += 1\n",
        "    if count == 10:\n",
        "        break"
      ]
    },
    {
      "cell_type": "code",
      "execution_count": 4,
      "metadata": {
        "id": "Nufu5y_DX0eZ"
      },
      "outputs": [
        {
          "name": "stdout",
          "output_type": "stream",
          "text": [
            "1\n",
            "3\n",
            "5\n",
            "7\n",
            "9\n"
          ]
        }
      ],
      "source": [
        "i = 0\n",
        "\n",
        "while i < 5:\n",
        "    print(i*2 + 1)\n",
        "    i += 1"
      ]
    },
    {
      "cell_type": "markdown",
      "metadata": {
        "id": "BooDz2QXyk6f"
      },
      "source": [
        "## 실습. input으로 숫자를 입력받고 1부터 그 숫자까지 하나씩 번호를 더하면서 출력하는 while문을 만들어주세요."
      ]
    },
    {
      "cell_type": "code",
      "execution_count": 16,
      "metadata": {
        "id": "WrqjGWraHmB0"
      },
      "outputs": [
        {
          "name": "stdout",
          "output_type": "stream",
          "text": [
            "1\n",
            "🚧🚧🚧🚧  🔥 여기 불났다 🔥  🚧🚧🚧🚧\n",
            "3\n",
            "🚧🚧🚧🚧  🔥 여기 불났다 🔥  🚧🚧🚧🚧\n",
            "6\n",
            "🚧🚧🚧🚧  🔥 여기 불났다 🔥  🚧🚧🚧🚧\n",
            "10\n",
            "🚧🚧🚧🚧  🔥 여기 불났다 🔥  🚧🚧🚧🚧\n",
            "15\n",
            "🚧🚧🚧🚧  🔥 여기 불났다 🔥  🚧🚧🚧🚧\n"
          ]
        }
      ],
      "source": [
        "number = input('1보다 큰 숫자를 입력하세요 : ')\n",
        "i = 1\n",
        "\n",
        "while i <= int(number):\n",
        "    print(int((i*(i+1))/2))\n",
        "    print('🚧🚧🚧🚧  🔥 여기 불났다 🔥  🚧🚧🚧🚧')\n",
        "    i += 1"
      ]
    },
    {
      "cell_type": "markdown",
      "metadata": {
        "id": "k37VW7ndbl3O"
      },
      "source": [
        "### x를 입력하기 전까지는 계속 무언가를 타이핑해야만 하는 프로그램"
      ]
    },
    {
      "cell_type": "markdown",
      "metadata": {
        "id": "KrisiM8Mbhrv"
      },
      "source": [
        "```\n",
        "무언가 입력중입니다\n",
        "종료하려면 x를 입력하세요 : ㄴ\n",
        "무언가 입력중입니다\n",
        "종료하려면 x를 입력하세요 : x\n",
        "무한 반복이 종료되었습니다\n",
        "```"
      ]
    },
    {
      "cell_type": "markdown",
      "metadata": {
        "id": "ePci00pFlxHD"
      },
      "source": [
        "```\n",
        "c:\\> 1\n",
        "1\n",
        "c:\\> 2\n",
        "2\n",
        "c:\\> 4\n",
        "4\n",
        "c:\\> x\n",
        "x\n",
        "프로그램이 종료되었습니다\n",
        "```"
      ]
    },
    {
      "cell_type": "code",
      "execution_count": 18,
      "metadata": {
        "id": "vxSftUfUeRSB"
      },
      "outputs": [
        {
          "name": "stdout",
          "output_type": "stream",
          "text": [
            "📝 무언가 입력해보세요\n",
            "💾 1\n",
            "💾 123\n",
            "💾 32423\n",
            "💾 asfdasfds\n",
            "💾 afsd\n",
            "💾 xxx\n",
            "💾 x\n",
            "😭 프로그램이 종료됨\n"
          ]
        }
      ],
      "source": [
        "i = True\n",
        "\n",
        "print('📝 무언가 입력해보세요')\n",
        "\n",
        "while i:\n",
        "    answer = input('😉 종료하려면 x 를 누르세요')\n",
        "    print('💾 ' + answer)\n",
        "    if answer == 'x':\n",
        "        i = False\n",
        "    \n",
        "print('😭 프로그램이 종료됨')"
      ]
    },
    {
      "cell_type": "code",
      "execution_count": 20,
      "metadata": {
        "id": "iaNkbA8OeBkp"
      },
      "outputs": [
        {
          "name": "stdout",
          "output_type": "stream",
          "text": [
            "📝 무언가 입력해보세요\n",
            "\n",
            "💾 123\n",
            "💾 asdfa\n",
            "💾 asdfassa\n",
            "💾 321414\n",
            "💾 234\n",
            "💾 sdaf\n",
            "💾 x\n",
            "\n",
            "😭 프로그램이 종료됨\n"
          ]
        }
      ],
      "source": [
        "print('📝 무언가 입력해보세요\\n')\n",
        "\n",
        "while True:\n",
        "    answer = input('😉 종료하려면 x 를 누르세요')\n",
        "    print('💾 ' + answer)\n",
        "    if answer == 'x':\n",
        "        break\n",
        "    \n",
        "print('\\n😭 프로그램이 종료됨')"
      ]
    },
    {
      "cell_type": "markdown",
      "metadata": {
        "id": "8skQdxM0LL4R"
      },
      "source": [
        "## 1~10 사이에 짝수만 출력하는 while문을 만들어볼게요."
      ]
    },
    {
      "cell_type": "code",
      "execution_count": 22,
      "metadata": {
        "id": "UPorKoSbLGaJ"
      },
      "outputs": [
        {
          "name": "stdout",
          "output_type": "stream",
          "text": [
            "2\n",
            "4\n",
            "6\n",
            "8\n",
            "10\n"
          ]
        }
      ],
      "source": [
        "i = 0\n",
        "\n",
        "while i < 10:\n",
        "    i += 2\n",
        "    print(i)"
      ]
    },
    {
      "cell_type": "code",
      "execution_count": 24,
      "metadata": {
        "id": "Ljqke0VglbYQ"
      },
      "outputs": [
        {
          "name": "stdout",
          "output_type": "stream",
          "text": [
            "2\n",
            "4\n",
            "6\n",
            "8\n",
            "10\n"
          ]
        }
      ],
      "source": [
        "i = 1\n",
        "\n",
        "while i <= 10:\n",
        "    if i % 2 == 0:\n",
        "        print(i)\n",
        "    i += 1"
      ]
    },
    {
      "cell_type": "code",
      "execution_count": 27,
      "metadata": {
        "id": "AOejKs4Mn3a9"
      },
      "outputs": [
        {
          "name": "stdout",
          "output_type": "stream",
          "text": [
            "2\n",
            "4\n",
            "6\n",
            "8\n",
            "10\n"
          ]
        }
      ],
      "source": [
        "i = 1\n",
        "\n",
        "while i <= 10:\n",
        "    i += 1\n",
        "    if i % 2 == 0:\n",
        "        print(i)\n",
        "    else:\n",
        "        continue"
      ]
    },
    {
      "cell_type": "markdown",
      "metadata": {
        "id": "QW9amaqvMO_9"
      },
      "source": [
        "## 1~20 사이에 3의 배수만 더하는 while문을 만들어주세요."
      ]
    },
    {
      "cell_type": "code",
      "execution_count": 28,
      "metadata": {
        "id": "mYPl3YEMpOk5"
      },
      "outputs": [
        {
          "name": "stdout",
          "output_type": "stream",
          "text": [
            "63\n"
          ]
        }
      ],
      "source": [
        "i = 3\n",
        "sum = 0\n",
        "\n",
        "while i < 20:\n",
        "    if i % 3 == 0:\n",
        "        sum += i\n",
        "    i += 3\n",
        "    \n",
        "print(sum)"
      ]
    },
    {
      "cell_type": "markdown",
      "metadata": {
        "id": "SgkjvQefXd9q"
      },
      "source": [
        "# for\n",
        "    - 많이 사용하는 문법입니다\n",
        "    - 이터레이블 타입에 굉장히 특화되어있기 때문입니다.\n",
        "\n",
        "    - 이터레이블?\n",
        "        - 반복 가능한 모든 종류의 객체를 의미합니다.\n",
        "        - 첫번재 원소부터 마지막 원소까지 순서대로 접근이 가능하면 이터레이블이라고 부릅니다.\n",
        "        - 시퀀스 타입\n",
        "            - 리스트, 튜플, 문자열\n",
        "       - 매핑형 자료들도 이터레이블화 해서 for문으로 가져올 수 있습니다\n",
        "        - 매핑형\n",
        "            - 딕셔너리 셋 등등등..\n",
        "\n",
        "\n",
        "for의 기본적인 형태는 다음과 같습니다\n",
        "\n",
        "\n",
        "```\n",
        "for 변수 in 이터레이블:\n",
        "    # for 블록\n",
        "```\n",
        "\n",
        "- 이터레이블 원소 개수만큼 반복을 하게 됩니다.\n",
        "- 끝까지 반복하게 할수도, 중간에 끊을수도, 시작점을 다르게 할 수도 있습니다"
      ]
    },
    {
      "cell_type": "code",
      "execution_count": 29,
      "metadata": {
        "id": "JDni1H0jUdmj"
      },
      "outputs": [
        {
          "name": "stdout",
          "output_type": "stream",
          "text": [
            "1\n",
            "2\n",
            "3\n",
            "4\n",
            "5\n"
          ]
        }
      ],
      "source": [
        "for i in [1,2,3,4,5]:\n",
        "    print(i)"
      ]
    },
    {
      "cell_type": "markdown",
      "metadata": {
        "id": "leHqKrc6Y4ei"
      },
      "source": [
        "# for문의 다양한 형태\n",
        "\n",
        "- range와 함께 자주 쓰입니다.\n",
        "- range(시작점, 끝+1, step)"
      ]
    },
    {
      "cell_type": "markdown",
      "metadata": {
        "id": "2xl4IvgPFN79"
      },
      "source": [
        "#### 실습. 다음 코드를 for문으로 작성해 보세요.\n",
        "~~~\n",
        "a = 10\n",
        "print(a)\n",
        "a = 20\n",
        "print(a)\n",
        "a = 30\n",
        "print(a)\n",
        "~~~"
      ]
    },
    {
      "cell_type": "code",
      "execution_count": 32,
      "metadata": {
        "id": "JM3hnNBVtsrE"
      },
      "outputs": [
        {
          "name": "stdout",
          "output_type": "stream",
          "text": [
            "10\n",
            "20\n",
            "30\n"
          ]
        }
      ],
      "source": [
        "for i in range(1,4):\n",
        "    print(i*10)"
      ]
    },
    {
      "cell_type": "markdown",
      "metadata": {},
      "source": [
        "#### input으로 값을 입력받아서 6부터 그 값까지 거꾸로 출력하는 for문을 만들어주세요\n"
      ]
    },
    {
      "cell_type": "code",
      "execution_count": 40,
      "metadata": {
        "id": "0FS251uj1EKl"
      },
      "outputs": [
        {
          "name": "stdout",
          "output_type": "stream",
          "text": [
            "10\n",
            "9\n",
            "8\n",
            "7\n",
            "6\n",
            "5\n",
            "4\n",
            "3\n",
            "2\n",
            "1\n"
          ]
        }
      ],
      "source": [
        "value = input('숫자: ')\n",
        "\n",
        "for i in range(int(value), 0, -1):\n",
        "    print(i)\n",
        "    "
      ]
    },
    {
      "cell_type": "code",
      "execution_count": 43,
      "metadata": {
        "id": "k2FUCT861o-G"
      },
      "outputs": [
        {
          "name": "stdout",
          "output_type": "stream",
          "text": [
            "6\n",
            "5\n",
            "4\n",
            "3\n",
            "2\n"
          ]
        }
      ],
      "source": [
        "value = input('숫자: ')\n",
        "\n",
        "for i in range(6, int(value) - 1, -1):\n",
        "    print(i)"
      ]
    },
    {
      "cell_type": "markdown",
      "metadata": {
        "id": "DZmS_pdoFYHU"
      },
      "source": [
        "실습. 다음 코드를 for문으로 작성해주세요.\n",
        "```\n",
        "print('1번 끝')\n",
        "print(\"-------\")\n",
        "print('2번 끝')\n",
        "print(\"-------\")\n",
        "print('3번 끝')\n",
        "print(\"-------\")\n",
        "```"
      ]
    },
    {
      "cell_type": "code",
      "execution_count": 47,
      "metadata": {
        "id": "wnYmZlEqgMBg"
      },
      "outputs": [
        {
          "name": "stdout",
          "output_type": "stream",
          "text": [
            "1번 끝\n",
            "🚧🚧🚧🚧\n",
            "2번 끝\n",
            "🚧🚧🚧🚧\n",
            "3번 끝\n",
            "🚧🚧🚧🚧\n"
          ]
        }
      ],
      "source": [
        "for i in range(3):\n",
        "    print(f'{i + 1}번 끝\\n🚧🚧🚧🚧')"
      ]
    },
    {
      "cell_type": "markdown",
      "metadata": {
        "id": "L6HBkF7yb5QM"
      },
      "source": [
        "## for와 range만 이용해서 해당 list1에 있는 모든 원소를 출력해주세요."
      ]
    },
    {
      "cell_type": "code",
      "execution_count": 54,
      "metadata": {
        "id": "uXe8gtifbog5"
      },
      "outputs": [
        {
          "name": "stdout",
          "output_type": "stream",
          "text": [
            "a\n",
            "b\n",
            "c\n",
            "d\n",
            "e\n",
            "f\n",
            "g\n",
            "e\n",
            "f\n",
            "g\n",
            "h\n"
          ]
        }
      ],
      "source": [
        "list1 = ['a','b','c','d','e','f','g','e','f','g','h']\n",
        "\n",
        "for i in range(len(list1)):\n",
        "    print(list1[i])\n"
      ]
    },
    {
      "cell_type": "markdown",
      "metadata": {
        "id": "8MujqRgNiKkl"
      },
      "source": [
        "## 실습. 1에서 20까지의 정수 중 3의 배수 출력하고 합계 구하기\n",
        "- 아까 while문으로 만든 것을 for문으로 바꿔주시면 됩니다\n",
        "\n"
      ]
    },
    {
      "cell_type": "code",
      "execution_count": 51,
      "metadata": {
        "id": "thPnjA2hmd49"
      },
      "outputs": [
        {
          "name": "stdout",
          "output_type": "stream",
          "text": [
            "3\n",
            "6\n",
            "9\n",
            "12\n",
            "15\n",
            "18\n",
            "총합: 63\n"
          ]
        }
      ],
      "source": [
        "sum = 0\n",
        "\n",
        "for i in range(3, 20, 3):\n",
        "    print(i)\n",
        "    sum += i\n",
        "\n",
        "print(f'총합: {sum}')"
      ]
    },
    {
      "cell_type": "code",
      "execution_count": 55,
      "metadata": {
        "id": "aJzm0lPcO0eU"
      },
      "outputs": [],
      "source": [
        "fruits = {'딸기': 'Strawberry', '바나나': 'Banana', '사과': 'Apple', '포도': 'Grape'}"
      ]
    },
    {
      "cell_type": "code",
      "execution_count": 60,
      "metadata": {
        "id": "VKmZlK0WO2dl"
      },
      "outputs": [
        {
          "name": "stdout",
          "output_type": "stream",
          "text": [
            "딸기 - Strawberry\n",
            "바나나 - Banana\n",
            "사과 - Apple\n",
            "포도 - Grape\n"
          ]
        }
      ],
      "source": [
        "for fruit in fruits.items():\n",
        "    print(fruit[0] + ' - ' + fruit[1])"
      ]
    },
    {
      "cell_type": "code",
      "execution_count": 64,
      "metadata": {
        "id": "20pEpIdxQzu5"
      },
      "outputs": [
        {
          "name": "stdout",
          "output_type": "stream",
          "text": [
            "딸기 - Strawberry\n",
            "바나나 - Banana\n",
            "사과 - Apple\n",
            "포도 - Grape\n"
          ]
        }
      ],
      "source": [
        "for kor, eng in fruits.items():\n",
        "    print(kor + ' - ' + eng)"
      ]
    },
    {
      "cell_type": "code",
      "execution_count": null,
      "metadata": {
        "id": "om-XTiLR_VVF"
      },
      "outputs": [],
      "source": [
        "# 키 - 밸류(아이템) 순서로 꺼내서 출력해보세요\n",
        "# 딸기 - Strawberry\n",
        "# 바나나 - Banana\n",
        "# 사과 - Apple\n",
        "# 포도 - Grape\n"
      ]
    },
    {
      "cell_type": "code",
      "execution_count": 110,
      "metadata": {
        "colab": {
          "base_uri": "https://localhost:8080/",
          "height": 35
        },
        "id": "39fMKLmoAoyJ",
        "outputId": "a9d56e3b-d29c-416c-8e43-35d30d27bfe4"
      },
      "outputs": [
        {
          "data": {
            "text/plain": [
              "'\\n연필 500, 연필 300\\n공책 1200, 공책 2100\\n신발 58000, 신발 2121000\\n'"
            ]
          },
          "execution_count": 110,
          "metadata": {},
          "output_type": "execute_result"
        }
      ],
      "source": [
        "sale1 = { '연필' : [500, 300], '공책': [1200, 2100], '신발':[58000, 2121000]}\n",
        "'''\n",
        "연필 500, 연필 300\n",
        "공책 1200, 공책 2100\n",
        "신발 58000, 신발 2121000\n",
        "'''"
      ]
    },
    {
      "cell_type": "code",
      "execution_count": 71,
      "metadata": {
        "id": "9w4KqN0HCMIL"
      },
      "outputs": [
        {
          "name": "stdout",
          "output_type": "stream",
          "text": [
            "\n",
            "연필 500, 연필 300\n",
            "\n",
            "공책 1200, 공책 2100\n",
            "\n",
            "신발 58000, 신발 2121000\n"
          ]
        }
      ],
      "source": [
        "for name, [price1, price2] in sale1.items():\n",
        "    print(f'\\n{name} {price1}, {name} {price2}')"
      ]
    },
    {
      "cell_type": "code",
      "execution_count": null,
      "metadata": {
        "id": "cSlP9pdtD7cF"
      },
      "outputs": [],
      "source": [
        "# 실습2. 1000원 미만의 상품은 팔지 않을 거에요\n",
        "#         1000원보다 비싼 상품의 이름표만 출력해주세요(조건문)\n"
      ]
    },
    {
      "cell_type": "code",
      "execution_count": 72,
      "metadata": {
        "id": "hy0q6vboapix"
      },
      "outputs": [
        {
          "name": "stdout",
          "output_type": "stream",
          "text": [
            "공책, 1200\n",
            "공책, 2100\n",
            "신발, 58000\n",
            "신발, 2121000\n"
          ]
        }
      ],
      "source": [
        "for name, prices in sale1.items():\n",
        "    for price in prices:\n",
        "        if price < 1000:\n",
        "            continue\n",
        "        else:\n",
        "            print(f'{name}, {price}')"
      ]
    },
    {
      "cell_type": "code",
      "execution_count": null,
      "metadata": {
        "id": "QTOcbwzOaSfi"
      },
      "outputs": [],
      "source": [
        "# 실습3. 손님들이 배가 불렀다며 연지상회를 더이상 찾지 않아서 눈물의 이별세일을 합니다.\n",
        "# 장부(sale1)에는 그대로 있되 출력결과만 할인된 상태의 값으로 20프로씩 물건값을 할인해서 판매하는 가격표를 출력해주세요.\n",
        "\n"
      ]
    },
    {
      "cell_type": "code",
      "execution_count": 74,
      "metadata": {
        "id": "KOGPTFnvbt1S"
      },
      "outputs": [
        {
          "name": "stdout",
          "output_type": "stream",
          "text": [
            "\n",
            "연필 400, 연필 240\n",
            "\n",
            "공책 960, 공책 1680\n",
            "\n",
            "신발 46400, 신발 1696800\n"
          ]
        }
      ],
      "source": [
        "for name, [price1, price2] in sale1.items():\n",
        "    print(f'\\n{name} {int(price1*.8)}, {name} {int(price2*.8)}')"
      ]
    },
    {
      "cell_type": "code",
      "execution_count": 75,
      "metadata": {
        "id": "O4glicaucDkZ"
      },
      "outputs": [],
      "source": [
        "import copy\n",
        "sale2 = copy.deepcopy(sale1)"
      ]
    },
    {
      "cell_type": "code",
      "execution_count": null,
      "metadata": {
        "id": "CdIw0AcNcBh3"
      },
      "outputs": [],
      "source": [
        "#    실습4. 폐업처리를 하려고 보니 장부의 가격과 틀려서 더 많은 세금을 내게 생겼습니다.\n",
        "# 각 상품의 장부 가격(sale1)을 20프로씩 할인된 물건값으로 변경해주세요.\n"
      ]
    },
    {
      "cell_type": "code",
      "execution_count": 112,
      "metadata": {
        "colab": {
          "base_uri": "https://localhost:8080/"
        },
        "id": "cLkHiw1zb7nx",
        "outputId": "e654e052-f211-4156-bbcf-7693bc206223"
      },
      "outputs": [],
      "source": [
        "for name in sale1:\n",
        "    for prices in name:\n",
        "        for length in range(0, len(prices)):\n",
        "            sale1[name][length] = int(sale1[name][length] * 0.8)"
      ]
    },
    {
      "cell_type": "code",
      "execution_count": 115,
      "metadata": {},
      "outputs": [
        {
          "name": "stdout",
          "output_type": "stream",
          "text": [
            "sale1 {'연필': [320, 300], '공책': [768, 2100], '신발': [37120, 2121000]}\n",
            "sale2 {'연필': [500, 300], '공책': [1200, 2100], '신발': [58000, 2121000]}\n"
          ]
        }
      ],
      "source": [
        "print('sale1',sale1)\n",
        "print('sale2',sale2)"
      ]
    },
    {
      "cell_type": "markdown",
      "metadata": {
        "id": "jAOnAy7Zn8td"
      },
      "source": [
        "## 1~9 사이의 숫자 하나를 입력받아서 해당 단수의 구구단을 출력해주세요"
      ]
    },
    {
      "cell_type": "code",
      "execution_count": null,
      "metadata": {
        "id": "kQzYIsTGfrdi"
      },
      "outputs": [],
      "source": [
        "# for문으로 구현"
      ]
    },
    {
      "cell_type": "code",
      "execution_count": null,
      "metadata": {
        "id": "5ThVIMm2ra79"
      },
      "outputs": [],
      "source": [
        "# while문으로 구현\n"
      ]
    },
    {
      "cell_type": "markdown",
      "metadata": {
        "id": "P_8tllDuwvW_"
      },
      "source": [
        "# 파이썬의 반복문을 보고 있습니다.\n",
        "- while, for 밖에 없다 확인했고요\n",
        "- for 문 안에도 for문을 넣어서 반복을 중첩시킬 수 있습니다.\n",
        "\n",
        "```\n",
        "for i in range(숫자):\n",
        "    print('안녕')\n",
        "   for j in range(또다른 숫자):\n",
        "        그 안에 실행문\n",
        "    실행문\n",
        "```\n",
        "\n",
        "#### 반복문에서 사용하는 네이밍 규칙(권장일 뿐)\n",
        "- i 가 의미하는 것은 iterable의 약자입니다. itr로 표현하기도 하는데 결국 같은 표현입니다.\n",
        "\n",
        "- i, j, k, ...... -> 순서나 인덱스를 의미할 때\n",
        "- a, b, 임시변수명(tmp), _(underscore) -> 매개변수를 직접 의미할 때는\n",
        "\n",
        "- count, cnt -> 개수를 의미하는 용도\n",
        "- 여러개 단어를 합쳐서 쓸 때는 스네이크 케이스 snake_case\n",
        "\n"
      ]
    },
    {
      "cell_type": "markdown",
      "metadata": {
        "id": "0X720oRm2y0j"
      },
      "source": [
        "# 구구단 1개단 받았죠.input을 지우고\n",
        "# 구구단을 1~9단까지 출력해보겠습니다.  "
      ]
    },
    {
      "cell_type": "code",
      "execution_count": null,
      "metadata": {
        "id": "KaPxtGwu4xdN"
      },
      "outputs": [],
      "source": []
    },
    {
      "cell_type": "code",
      "execution_count": null,
      "metadata": {
        "id": "IASVZSOfiFqM"
      },
      "outputs": [],
      "source": [
        "# 무한반복이 필요하면 while문을 밖에 넣고 안에 for문을 쓰는 것도 가능할 거에요\n",
        "# 중첩이 되어서 복잡하다 느껴질 뿐이지 사실 원리는 똑같습니다.\n",
        "# 구구단을 while문으로 출력\n"
      ]
    },
    {
      "cell_type": "code",
      "execution_count": null,
      "metadata": {
        "colab": {
          "base_uri": "https://localhost:8080/"
        },
        "id": "kIIlxGNC3hlj",
        "outputId": "0b54164f-84b0-4716-ab99-3f79174ff23d"
      },
      "outputs": [
        {
          "name": "stdout",
          "output_type": "stream",
          "text": [
            "\n",
            "1 X 1 = 1\t2 X 1 = 2\t3 X 1 = 3\t4 X 1 = 4\t5 X 1 = 5\t6 X 1 = 6\t7 X 1 = 7\t8 X 1 = 8\t9 X 1 = 9\t\n",
            "1 X 2 = 2\t2 X 2 = 4\t3 X 2 = 6\t4 X 2 = 8\t5 X 2 = 10\t6 X 2 = 12\t7 X 2 = 14\t8 X 2 = 16\t9 X 2 = 18\t\n",
            "1 X 3 = 3\t2 X 3 = 6\t3 X 3 = 9\t4 X 3 = 12\t5 X 3 = 15\t6 X 3 = 18\t7 X 3 = 21\t8 X 3 = 24\t9 X 3 = 27\t\n",
            "1 X 4 = 4\t2 X 4 = 8\t3 X 4 = 12\t4 X 4 = 16\t5 X 4 = 20\t6 X 4 = 24\t7 X 4 = 28\t8 X 4 = 32\t9 X 4 = 36\t\n",
            "1 X 5 = 5\t2 X 5 = 10\t3 X 5 = 15\t4 X 5 = 20\t5 X 5 = 25\t6 X 5 = 30\t7 X 5 = 35\t8 X 5 = 40\t9 X 5 = 45\t\n",
            "1 X 6 = 6\t2 X 6 = 12\t3 X 6 = 18\t4 X 6 = 24\t5 X 6 = 30\t6 X 6 = 36\t7 X 6 = 42\t8 X 6 = 48\t9 X 6 = 54\t\n",
            "1 X 7 = 7\t2 X 7 = 14\t3 X 7 = 21\t4 X 7 = 28\t5 X 7 = 35\t6 X 7 = 42\t7 X 7 = 49\t8 X 7 = 56\t9 X 7 = 63\t\n",
            "1 X 8 = 8\t2 X 8 = 16\t3 X 8 = 24\t4 X 8 = 32\t5 X 8 = 40\t6 X 8 = 48\t7 X 8 = 56\t8 X 8 = 64\t9 X 8 = 72\t\n",
            "1 X 9 = 9\t2 X 9 = 18\t3 X 9 = 27\t4 X 9 = 36\t5 X 9 = 45\t6 X 9 = 54\t7 X 9 = 63\t8 X 9 = 72\t9 X 9 = 81\t"
          ]
        }
      ],
      "source": [
        "#구구단을 가로로 출력해보세요\n"
      ]
    }
  ],
  "metadata": {
    "colab": {
      "provenance": []
    },
    "kernelspec": {
      "display_name": "Python 3",
      "name": "python3"
    },
    "language_info": {
      "codemirror_mode": {
        "name": "ipython",
        "version": 3
      },
      "file_extension": ".py",
      "mimetype": "text/x-python",
      "name": "python",
      "nbconvert_exporter": "python",
      "pygments_lexer": "ipython3",
      "version": "3.11.9"
    }
  },
  "nbformat": 4,
  "nbformat_minor": 0
}
