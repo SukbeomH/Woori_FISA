{
 "cells": [
  {
   "cell_type": "markdown",
   "metadata": {
    "id": "XBNtHyJScyIJ"
   },
   "source": [
    "## 1. pymysql\n",
    "\n",
    "* mysql을 python에서 사용할 수 있는 라이브러리 (pymysql 라이브러리 이외에도 MySQLdb(Mysql-pytion), MySQL connector 등 다양한 라이브러리 존재)\n",
    "* 이 중에서 설치가 가장 쉬운 라이브러리\n",
    "\n",
    "* mysql 코드 작성 순서\n",
    "\n",
    "```\n",
    "  1. 모듈 import\n",
    "  2. pymysql.connect() 메소드로 MySQL에 연결\n",
    "     - 호스트명, 포트, 로그인, 암호, 접속할 DB 등을 파라미터로 지정\n",
    "  3. MySQL 접속이 성공하면, Connection 객체로부터 cursor() 메서드를 호출하여 Cursor 객체를 가져옴\n",
    "  4. Cursor 객체의 execute() 메서드를 사용하여 SQL 문장을 DB 서버에 전송\n",
    "  5. SQL 쿼리의 경우 Cursor 객체의 fetchall(), fetchone(), fetchmany() 등의 메서드를 사용하여 서버로부터 가져온 데이타를 코드에서 활용\n",
    "  6. 삽입, 갱신, 삭제 등의 DML(Data Manipulation Language) 문장을 실행하는 경우, INSERT/UPDATE/DELETE 후 Connection 객체의 commit() 메서드를 사용하여 데이타를 확정\n",
    "  7. Connection 객체의 close() 메서드를 사용하여 DB 연결을 닫음\n",
    "  ```"
   ]
  },
  {
   "cell_type": "markdown",
   "metadata": {
    "id": "fiIC8QwQcyIJ"
   },
   "source": [
    "* PyMySql 모듈 import"
   ]
  },
  {
   "cell_type": "code",
   "execution_count": 1,
   "metadata": {
    "id": "sZLWhPrWZCPe",
    "outputId": "26936a0c-70bc-4924-f756-5fbc901609f9"
   },
   "outputs": [
    {
     "name": "stdout",
     "output_type": "stream",
     "text": [
      "Channels:\n",
      " - defaults\n",
      " - conda-forge\n",
      "Platform: osx-arm64\n",
      "Collecting package metadata (repodata.json): done\n",
      "Solving environment: done\n",
      "\n",
      "## Package Plan ##\n",
      "\n",
      "  environment location: /opt/homebrew/Caskroom/miniconda/base/envs/0731\n",
      "\n",
      "  added / updated specs:\n",
      "    - pymysql\n",
      "\n",
      "\n",
      "The following NEW packages will be INSTALLED:\n",
      "\n",
      "  cryptography       pkgs/main/osx-arm64::cryptography-42.0.5-py312hd4332d6_1 \n",
      "  pymysql            pkgs/main/osx-arm64::pymysql-1.0.2-py312hca03da5_1 \n",
      "\n",
      "The following packages will be SUPERSEDED by a higher-priority channel:\n",
      "\n",
      "  certifi            conda-forge/noarch::certifi-2024.7.4-~ --> pkgs/main/osx-arm64::certifi-2024.7.4-py312hca03da5_0 \n",
      "\n",
      "\n",
      "\n",
      "Downloading and Extracting Packages:\n",
      "\n",
      "Preparing transaction: done\n",
      "Verifying transaction: done\n",
      "Executing transaction: done\n"
     ]
    }
   ],
   "source": [
    "# 1. pymysql을 설치한다\n",
    "!conda install pymysql -y"
   ]
  },
  {
   "cell_type": "code",
   "execution_count": 2,
   "metadata": {
    "id": "oIykoAlqcyIJ"
   },
   "outputs": [],
   "source": [
    "# 2. import 한다\n",
    "import pymysql"
   ]
  },
  {
   "cell_type": "markdown",
   "metadata": {
    "id": "p2lhl1WVcyIK"
   },
   "source": [
    "* pymysql.connect() 메소드를 사용하여 MySQL에 연결\n",
    "     - 호스트명, 포트, 로그인, 암호, 접속할 DB 등을 파라미터로 지정\n",
    "     - 주요 파라미터\n",
    "       - host : 접속할 mysql server 주소\n",
    "       - port : 접속할 mysql server 의 포트 번호\n",
    "       - user : mysql ID\n",
    "       - passwd : mysql ID의 암호\n",
    "       - db : 접속할 데이터베이스\n",
    "       - charset='utf8' : mysql에서 select하여 데이타를 가져올 때 한글이 깨질 수 있으므로 연결 설정에 넣어줌\n"
   ]
  },
  {
   "cell_type": "code",
   "execution_count": null,
   "metadata": {
    "id": "_P1Z8MLTyzni"
   },
   "outputs": [],
   "source": [
    "# 3. pymysql한테 3306 포트번호와 접속할 ID, PW를 준다"
   ]
  },
  {
   "cell_type": "code",
   "execution_count": 4,
   "metadata": {
    "id": "rUmXVedgyzni"
   },
   "outputs": [],
   "source": [
    "db = pymysql.connect(host='localhost', port=3306, user='root', passwd='', charset='utf8')"
   ]
  },
  {
   "cell_type": "code",
   "execution_count": 5,
   "metadata": {
    "id": "yce4sEcXcyIK"
   },
   "outputs": [],
   "source": [
    "cursor = db.cursor()"
   ]
  },
  {
   "cell_type": "markdown",
   "metadata": {
    "id": "inIOEgEhcyIL"
   },
   "source": [
    "  3. MySQL 접속이 성공하면, Connection 객체로부터 cursor() 메서드를 호출하여 Cursor 객체를 가져옴\n",
    "  4. Cursor 객체의 execute() 메서드를 사용하여 SQL 문장을 DB 서버에 전송"
   ]
  },
  {
   "cell_type": "code",
   "execution_count": 12,
   "metadata": {},
   "outputs": [],
   "source": [
    "db = pymysql.connect(host='localhost', port=3306, user='root', passwd='', charset='utf8')\n",
    "cursor = db.cursor()\n",
    "sql = \"SELECT * FROM fisa.box_office;\"\n",
    "result = cursor.execute(sql)\n",
    "db.commit()\n",
    "\n",
    "db.close()"
   ]
  },
  {
   "cell_type": "markdown",
   "metadata": {
    "id": "kmbDQBAJcyIL"
   },
   "source": [
    "* 테이블 생성\n",
    "  - Cursor Object 가져오기: cursor = db.cursor()  \n",
    "  - SQL 실행하기: cursor.execute(SQL)\n",
    "  - 실행 mysql 서버에 확정 반영하기: db.commit()"
   ]
  },
  {
   "cell_type": "code",
   "execution_count": null,
   "metadata": {
    "id": "po0jJbEFcyIM",
    "outputId": "5020f709-3157-4886-84df-f6ee55e3b295"
   },
   "outputs": [
    {
     "data": {
      "text/plain": [
       "((1, 'dave', 'man', datetime.date(1983, 7, 16), 90, 80, 71),\n",
       " (2, 'minsun', 'woman', datetime.date(1982, 10, 16), 30, 88, None),\n",
       " (3, 'david', 'man', datetime.date(1982, 12, 10), 78, 77, 30),\n",
       " (4, 'jade', 'man', datetime.date(1979, 11, 1), 45, 66, 20),\n",
       " (5, 'jane', 'man', datetime.date(1990, 11, 12), 65, 32, 90),\n",
       " (6, 'wage', 'woman', datetime.date(1982, 1, 13), 76, 30, 80),\n",
       " (7, 'tina', 'woman', datetime.date(1982, 12, 3), 87, 62, 71))"
      ]
     },
     "execution_count": 8,
     "metadata": {},
     "output_type": "execute_result"
    }
   ],
   "source": [
    "# 1. 라이브러리 가져오기\n",
    "\n",
    "\n",
    "# 2. 접속하기\n",
    "\n",
    "# 3. 커서 가져오기\n",
    "\n",
    "# 4. SQL 구문 만들기 (CRUD SQL 구문 등)\n",
    "\n",
    "# 5. SQL 구문 실행하기\n",
    "\n",
    "# 6. DB에 Complete 하기\n",
    "\n",
    "# 7. DB 연결 닫기\n"
   ]
  },
  {
   "cell_type": "markdown",
   "metadata": {
    "id": "l4T3_QdfcyIM"
   },
   "source": [
    "* cursor 는 control structure of database 입니다. (연결된 객체로 보셔도 좋습니다.)"
   ]
  },
  {
   "cell_type": "code",
   "execution_count": null,
   "metadata": {
    "id": "7_MFVxXZcyIM"
   },
   "outputs": [],
   "source": []
  },
  {
   "cell_type": "markdown",
   "metadata": {
    "id": "Yn-8bBrccyIN"
   },
   "source": [
    "* SQL 실행 (Cursor 객체의 execute() 메서드를 사용하여 INSERT, UPDATE 혹은 DELETE 문장을 DB 서버에 보냄)"
   ]
  },
  {
   "cell_type": "code",
   "execution_count": null,
   "metadata": {
    "id": "XbeuACu2yznk"
   },
   "outputs": [],
   "source": [
    "# insert"
   ]
  },
  {
   "cell_type": "code",
   "execution_count": null,
   "metadata": {
    "id": "f9P8qE9OcyIN"
   },
   "outputs": [],
   "source": [
    "\n",
    "INSERT INTO students (name, gender, birth, english, math, korean) VALUES ('wage2', 'woman', '1982-1-13', 76, 30, 80);\n",
    "INSERT INTO students (name, gender, birth, english, math, korean) VALUES ('tina2', 'woman', '1982-12-3', 87, 62, 71);\n"
   ]
  },
  {
   "cell_type": "code",
   "execution_count": null,
   "metadata": {
    "id": "svw-jzaNBFvQ"
   },
   "outputs": [],
   "source": [
    "# update"
   ]
  },
  {
   "cell_type": "code",
   "execution_count": null,
   "metadata": {
    "id": "-N47p6b-BFvQ"
   },
   "outputs": [],
   "source": [
    "# delete"
   ]
  },
  {
   "cell_type": "markdown",
   "metadata": {
    "id": "dUcDKOntcyIN"
   },
   "source": [
    "* 삽입, 갱신, 삭제 등이 모두 끝났으면 Connection 객체의 commit() 메서드를 사용하여 데이타를 Commit"
   ]
  },
  {
   "cell_type": "code",
   "execution_count": null,
   "metadata": {
    "id": "_n9Nq4DucyIO"
   },
   "outputs": [],
   "source": []
  },
  {
   "cell_type": "markdown",
   "metadata": {
    "id": "JiDFbNxicyIO"
   },
   "source": [
    "* Connection 객체의 close() 메서드를 사용하여 DB 연결을 닫음"
   ]
  },
  {
   "cell_type": "code",
   "execution_count": null,
   "metadata": {
    "id": "zPCcraSTcyIO"
   },
   "outputs": [],
   "source": [
    "db = pymysql.connect(host='localhost', # 127.0.0.1 -> 자기자신을 가리킴\n",
    "                     port=3306,\n",
    "                     user='root',\n",
    "                     passwd='0000',\n",
    "                     db='student_mgmt',\n",
    "                     charset='utf8',\n",
    "                     client_flag=CLIENT.MULTI_STATEMENTS)\n",
    "\n",
    "student_mgmt = db.cursor()\n",
    "sql3 = '''\n",
    "INSERT INTO students (name, gender, birth, english, math, korean) VALUES ('davey', 'man', '1983-07-16', 90, 80, 71);\n",
    "INSERT INTO students (name, gender, birth, english, math, korean) VALUES ('davey2', 'man', '1983-07-16', 90, 80, 71);\n",
    "'''\n",
    "\n",
    "# # 5. SQL 구문 실행하기\n",
    "student_mgmt.execute(sql3, )\n",
    "# 6. DB에 Complete 하기\n",
    "db.commit()\n",
    "# 7. DB 연결 닫기\n",
    "db.close()"
   ]
  },
  {
   "cell_type": "markdown",
   "metadata": {
    "id": "1O4naEsAcyIO"
   },
   "source": [
    "### 패턴으로 익히는 pymysql"
   ]
  },
  {
   "cell_type": "markdown",
   "metadata": {
    "id": "dooYdOD3cyIP"
   },
   "source": [
    "* 데이터 삽입(INSERT)\n",
    "  - Cursor Object 가져오기: cursor = db.cursor()  \n",
    "  - SQL 실행하기: cursor.execute(SQL)\n",
    "  - 실행 mysql 서버에 확정 반영하기: db.commit()"
   ]
  },
  {
   "cell_type": "code",
   "execution_count": null,
   "metadata": {
    "id": "kjI5eH8a1iyN"
   },
   "outputs": [],
   "source": []
  },
  {
   "cell_type": "markdown",
   "metadata": {
    "id": "zpdVCGH4cyIQ"
   },
   "source": [
    "* 데이터 조회(SELECT)\n",
    "  - Cursor Object 가져오기: cursor = db.cursor()  \n",
    "  - SQL 실행하기: cursor.execute(SQL)\n",
    "  - mysql 서버로부터 데이터 가져오기: fetch 메서드 사용\n",
    "    - fetchall(): Fetch all the rows\n",
    "    - fetchmany(size=None): Fetch several rows\n",
    "    - fetchone(): Fetch the next row"
   ]
  },
  {
   "cell_type": "code",
   "execution_count": null,
   "metadata": {
    "id": "n1XYvuj7cyIQ"
   },
   "outputs": [],
   "source": [
    "# 1. 라이브러리 가져오기\n",
    "\n",
    "# 2. 접속하기\n",
    "\n",
    "# 3. 커서 가져오기\n",
    "\n",
    "# 4. SQL 구문 만들기 (CRUD SQL 구문 등)\n",
    "\n",
    "# 5. SQL 구문 실행하기\n",
    "\n",
    "\n",
    "# 6. DB에 Complete 하기\n",
    "\n",
    "# 7. DB 연결 닫기"
   ]
  },
  {
   "cell_type": "code",
   "execution_count": null,
   "metadata": {
    "id": "czZNZPv3cyIQ"
   },
   "outputs": [],
   "source": [
    "# 1. 라이브러리 가져오기\n",
    "\n",
    "# 2. 접속하기\n",
    "\n",
    "# 3. 커서 가져오기\n",
    "\n",
    "# 4. SQL 구문 만들기 (CRUD SQL 구문 등)\n",
    "\n",
    "# 5. SQL 구문 실행하기\n",
    "\n",
    "\n",
    "# 6. DB에 Complete 하기\n",
    "\n",
    "# 7. DB 연결 닫기"
   ]
  },
  {
   "cell_type": "markdown",
   "metadata": {
    "id": "2Gav3BUKcyIR"
   },
   "source": [
    "* 데이터 수정(UPDATE)\n",
    "  - Cursor Object 가져오기: cursor = db.cursor()  \n",
    "  - SQL 실행하기: cursor.execute(SQL)\n",
    "  - 실행 mysql 서버에 확정 반영하기: db.commit()"
   ]
  },
  {
   "cell_type": "code",
   "execution_count": null,
   "metadata": {
    "id": "88BHQ8-FBFvX"
   },
   "outputs": [],
   "source": [
    "# 1. 라이브러리 가져오기\n",
    "\n",
    "# 2. 접속하기\n",
    "\n",
    "# 3. 커서 가져오기\n",
    "\n",
    "# 4. SQL 구문 만들기 (CRUD SQL 구문 등)\n",
    "\n",
    "# 5. SQL 구문 실행하기\n",
    "\n",
    "# 6. DB에 Complete 하기\n",
    "\n",
    "# 7. DB 연결 닫기"
   ]
  },
  {
   "cell_type": "markdown",
   "metadata": {
    "id": "PSSYsTUicyIR"
   },
   "source": [
    "* 데이터 삭제(DELETE)\n",
    "  - Cursor Object 가져오기: cursor = db.cursor()  \n",
    "  - SQL 실행하기: cursor.execute(SQL)\n",
    "  - 실행 mysql 서버에 확정 반영하기: db.commit()"
   ]
  },
  {
   "cell_type": "code",
   "execution_count": null,
   "metadata": {
    "id": "jPzK0wmgBFvY"
   },
   "outputs": [],
   "source": [
    "# 1. 라이브러리 가져오기\n",
    "\n",
    "# 2. 접속하기\n",
    "\n",
    "# 3. 커서 가져오기\n",
    "\n",
    "# 4. SQL 구문 만들기 (CRUD SQL 구문 등)\n",
    "\n",
    "# 5. SQL 구문 실행하기\n",
    "\n",
    "# 6. DB에 Complete 하기\n",
    "\n",
    "# 7. DB 연결 닫기"
   ]
  }
 ],
 "metadata": {
  "colab": {
   "provenance": [
    {
     "file_id": "1eraag3WtksPxxYOix4i3VRETTj7A2Gie",
     "timestamp": 1702616086429
    },
    {
     "file_id": "1vDsvv3r8o1isU3mOR1egIVmpKIvj91li",
     "timestamp": 1684990855510
    },
    {
     "file_id": "1fIO5IudiOvpVAcXxbVMXvSAxAf_0kke0",
     "timestamp": 1667779031370
    },
    {
     "file_id": "1MoGx7eYuxU-90Sv0ldO6l1YGIkY9kI-I",
     "timestamp": 1667751739439
    }
   ]
  },
  "kernelspec": {
   "display_name": "0731",
   "language": "python",
   "name": "class0731"
  },
  "language_info": {
   "codemirror_mode": {
    "name": "ipython",
    "version": 3
   },
   "file_extension": ".py",
   "mimetype": "text/x-python",
   "name": "python",
   "nbconvert_exporter": "python",
   "pygments_lexer": "ipython3",
   "version": "3.12.4"
  },
  "nbTranslate": {
   "displayLangs": [
    "*"
   ],
   "hotkey": "alt-t",
   "langInMainMenu": true,
   "sourceLang": "en",
   "targetLang": "fr",
   "useGoogleTranslate": true
  },
  "vscode": {
   "interpreter": {
    "hash": "2c41d639afa5b7a76601ff56eccc93c4cd64ee7aff310c62c9d348074a8af990"
   }
  }
 },
 "nbformat": 4,
 "nbformat_minor": 4
}
